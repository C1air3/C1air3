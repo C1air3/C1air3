{
  "nbformat": 4,
  "nbformat_minor": 0,
  "metadata": {
    "colab": {
      "name": "Copy of Autoencoder-UMAP-DBSCAN.ipynb",
      "provenance": [],
      "collapsed_sections": [],
      "authorship_tag": "ABX9TyMkkFJmTan9zSvVzT3jppGg",
      "include_colab_link": true
    },
    "kernelspec": {
      "name": "python3",
      "display_name": "Python 3"
    },
    "language_info": {
      "name": "python"
    }
  },
  "cells": [
    {
      "cell_type": "markdown",
      "metadata": {
        "id": "view-in-github",
        "colab_type": "text"
      },
      "source": [
        "<a href=\"https://colab.research.google.com/github/C1air3/C1air3/blob/main/Copy_of_Autoencoder_UMAP_DBSCAN.ipynb\" target=\"_parent\"><img src=\"https://colab.research.google.com/assets/colab-badge.svg\" alt=\"Open In Colab\"/></a>"
      ]
    },
    {
      "cell_type": "code",
      "metadata": {
        "colab": {
          "base_uri": "https://localhost:8080/"
        },
        "id": "UbjHNqK7w_nG",
        "outputId": "d70f7db2-4118-4167-82f2-09341cdbb03e"
      },
      "source": [
        "from google.colab import drive\n",
        "drive.mount('/content/drive/')"
      ],
      "execution_count": null,
      "outputs": [
        {
          "output_type": "stream",
          "text": [
            "Mounted at /content/drive/\n"
          ],
          "name": "stdout"
        }
      ]
    },
    {
      "cell_type": "code",
      "metadata": {
        "colab": {
          "base_uri": "https://localhost:8080/"
        },
        "id": "lwznCatrnOm_",
        "outputId": "fe50ec2a-e08a-4966-f31a-e17a7ee85355"
      },
      "source": [
        "cd /content/drive/MyDrive/mail-data/"
      ],
      "execution_count": null,
      "outputs": [
        {
          "output_type": "stream",
          "text": [
            "/content/drive/MyDrive/mail-data\n"
          ],
          "name": "stdout"
        }
      ]
    },
    {
      "cell_type": "code",
      "metadata": {
        "colab": {
          "base_uri": "https://localhost:8080/"
        },
        "id": "UN_CNmLToVJF",
        "outputId": "23db4c0e-d1de-414a-c797-9ae684a8414a"
      },
      "source": [
        "!ls"
      ],
      "execution_count": null,
      "outputs": [
        {
          "output_type": "stream",
          "text": [
            "apec_prc  loss.png  xubin  z-score-vec.txt\n"
          ],
          "name": "stdout"
        }
      ]
    },
    {
      "cell_type": "code",
      "metadata": {
        "colab": {
          "base_uri": "https://localhost:8080/"
        },
        "id": "JPNQHmTUoX5k",
        "outputId": "26e04c9b-d487-41c4-ea4b-ed08270ad73f"
      },
      "source": [
        "import numpy as np\n",
        "import pandas as pd\n",
        "from sklearn.model_selection import train_test_split\n",
        "X = np.loadtxt(\"z-score-vec.txt\")\n",
        "X.shape\n",
        "X = pd.DataFrame(X)\n",
        "\n",
        "\n",
        "X_tr, X_te = train_test_split(X, test_size=0.2)\n",
        "train = X_tr\n",
        "test = X_te\n",
        "train.shape, test.shape"
      ],
      "execution_count": null,
      "outputs": [
        {
          "output_type": "execute_result",
          "data": {
            "text/plain": [
              "((81, 61), (21, 61))"
            ]
          },
          "metadata": {
            "tags": []
          },
          "execution_count": 4
        }
      ]
    },
    {
      "cell_type": "code",
      "metadata": {
        "colab": {
          "base_uri": "https://localhost:8080/"
        },
        "id": "ZIKssq_J9W6C",
        "outputId": "a5821e2c-e3b7-4f2f-8351-ff035d9b6167"
      },
      "source": [
        "train = train.values\n",
        "test = test.values\n",
        "print('训练特征值:\\n',train)\n",
        "train.shape"
      ],
      "execution_count": null,
      "outputs": [
        {
          "output_type": "stream",
          "text": [
            "训练特征值:\n",
            " [[ 0.22519581  0.26984354  0.         ... -0.50917508  0.\n",
            "   0.        ]\n",
            " [ 0.22519581  0.26984354  0.         ... -0.50917508  0.\n",
            "   0.        ]\n",
            " [-1.21042749  0.26984354  0.         ...  1.96396101  0.\n",
            "   0.        ]\n",
            " ...\n",
            " [ 0.22519581  0.26984354  0.         ... -0.50917508  0.\n",
            "   0.        ]\n",
            " [-0.49261584 -3.40002855  0.         ...  1.96396101  0.\n",
            "   0.        ]\n",
            " [ 0.22519581  0.26984354  0.         ... -0.50917508  0.\n",
            "   0.        ]]\n"
          ],
          "name": "stdout"
        },
        {
          "output_type": "execute_result",
          "data": {
            "text/plain": [
              "(81, 61)"
            ]
          },
          "metadata": {
            "tags": []
          },
          "execution_count": 5
        }
      ]
    },
    {
      "cell_type": "code",
      "metadata": {
        "id": "TGa5Bih2GD8n"
      },
      "source": [
        "from sklearn.cluster import KMeans\n",
        "from keras.layers import Input, Dense\n",
        "from keras.models import Model\n",
        "\n",
        "train1 = np.reshape(train,train.shape+(1,))\n",
        "# train1 = np.reshape(train,(train.shape[0],-1))\n",
        "test1 = np.reshape(test,test.shape+(1,))\n",
        "# test1 = np.reshape(test,(test.shape[0],-1))\n",
        "X = X.values\n",
        "X1 = np.reshape(X,X.shape+(1,))"
      ],
      "execution_count": null,
      "outputs": []
    },
    {
      "cell_type": "code",
      "metadata": {
        "colab": {
          "base_uri": "https://localhost:8080/"
        },
        "id": "hUFNjmVkLMUn",
        "outputId": "f05475c3-190b-4e0a-be3f-7c21e60c3b3d"
      },
      "source": [
        "train1.shape,test1.shape,X1.shape"
      ],
      "execution_count": null,
      "outputs": [
        {
          "output_type": "execute_result",
          "data": {
            "text/plain": [
              "((81, 61, 1), (21, 61, 1), (102, 61, 1))"
            ]
          },
          "metadata": {
            "tags": []
          },
          "execution_count": 7
        }
      ]
    },
    {
      "cell_type": "markdown",
      "metadata": {
        "id": "wI0PCO6Jj170"
      },
      "source": [
        "DNN自编码器"
      ]
    },
    {
      "cell_type": "code",
      "metadata": {
        "colab": {
          "base_uri": "https://localhost:8080/"
        },
        "id": "R5IDEwJKhQYb",
        "outputId": "87b6ea30-edf4-434c-f4ae-665b0a15438d"
      },
      "source": [
        "## define the encoder\n",
        "inputs_dim = train1.shape[1]\n",
        "encoder = Input(shape = (inputs_dim, ))\n",
        "e = Dense(32, activation = \"relu\")(encoder)\n",
        "e = Dense(16, activation = \"relu\")(e)\n",
        "e = Dense(8, activation = \"relu\")(e)\n",
        "## bottleneck layer\n",
        "n_bottleneck = 10\n",
        "## defining it with a name to extract it later\n",
        "bottleneck_layer = \"bottleneck_layer\"\n",
        "# can also be defined with an activation function, relu for instance\n",
        "bottleneck = Dense(n_bottleneck, name = bottleneck_layer)(e)\n",
        "## define the decoder (in reverse)\n",
        "decoder = Dense(8, activation = \"relu\")(bottleneck)\n",
        "decoder = Dense(16, activation = \"relu\")(decoder)\n",
        "decoder = Dense(32, activation = \"relu\")(decoder)\n",
        "## output layer\n",
        "output = Dense(inputs_dim)(decoder)\n",
        "## model\n",
        "model = Model(inputs = encoder, outputs = output)\n",
        "model.summary()\n"
      ],
      "execution_count": null,
      "outputs": [
        {
          "output_type": "stream",
          "text": [
            "Model: \"model\"\n",
            "_________________________________________________________________\n",
            "Layer (type)                 Output Shape              Param #   \n",
            "=================================================================\n",
            "input_1 (InputLayer)         [(None, 61)]              0         \n",
            "_________________________________________________________________\n",
            "dense (Dense)                (None, 32)                1984      \n",
            "_________________________________________________________________\n",
            "dense_1 (Dense)              (None, 16)                528       \n",
            "_________________________________________________________________\n",
            "dense_2 (Dense)              (None, 8)                 136       \n",
            "_________________________________________________________________\n",
            "bottleneck_layer (Dense)     (None, 10)                90        \n",
            "_________________________________________________________________\n",
            "dense_3 (Dense)              (None, 8)                 88        \n",
            "_________________________________________________________________\n",
            "dense_4 (Dense)              (None, 16)                144       \n",
            "_________________________________________________________________\n",
            "dense_5 (Dense)              (None, 32)                544       \n",
            "_________________________________________________________________\n",
            "dense_6 (Dense)              (None, 61)                2013      \n",
            "=================================================================\n",
            "Total params: 5,527\n",
            "Trainable params: 5,527\n",
            "Non-trainable params: 0\n",
            "_________________________________________________________________\n"
          ],
          "name": "stdout"
        }
      ]
    },
    {
      "cell_type": "markdown",
      "metadata": {
        "id": "6DaT0XPO04S8"
      },
      "source": [
        "训练自编码器以细化数据后要使用的模型，使用bottleneck层\n",
        "\n",
        "\n"
      ]
    },
    {
      "cell_type": "code",
      "metadata": {
        "id": "gEd0DHNfl2xE"
      },
      "source": [
        "encoder = Model(inputs = model.input, outputs = bottleneck)"
      ],
      "execution_count": null,
      "outputs": []
    },
    {
      "cell_type": "code",
      "metadata": {
        "colab": {
          "base_uri": "https://localhost:8080/"
        },
        "id": "fTeK7JBZmLWq",
        "outputId": "5b75ae40-0098-4f2e-ce5e-a65ac6832d12"
      },
      "source": [
        "model.compile(loss = \"mse\", optimizer = \"adam\")\n",
        "history = model.fit(\n",
        "    train1,\n",
        "    train1,\n",
        "    batch_size = 8, \n",
        "    epochs = 25,\n",
        "    verbose = 1,\n",
        "    validation_data = (test1,test1)\n",
        ")"
      ],
      "execution_count": null,
      "outputs": [
        {
          "output_type": "stream",
          "text": [
            "Epoch 1/25\n",
            "11/11 [==============================] - 15s 61ms/step - loss: 0.4018 - val_loss: 0.7175\n",
            "Epoch 2/25\n",
            "11/11 [==============================] - 0s 4ms/step - loss: 0.4009 - val_loss: 0.7141\n",
            "Epoch 3/25\n",
            "11/11 [==============================] - 0s 7ms/step - loss: 0.3982 - val_loss: 0.7073\n",
            "Epoch 4/25\n",
            "11/11 [==============================] - 0s 4ms/step - loss: 0.5275 - val_loss: 0.6982\n",
            "Epoch 5/25\n",
            "11/11 [==============================] - 0s 5ms/step - loss: 0.3031 - val_loss: 0.6824\n",
            "Epoch 6/25\n",
            "11/11 [==============================] - 0s 4ms/step - loss: 0.4671 - val_loss: 0.6560\n",
            "Epoch 7/25\n",
            "11/11 [==============================] - 0s 4ms/step - loss: 0.3522 - val_loss: 0.6208\n",
            "Epoch 8/25\n",
            "11/11 [==============================] - 0s 4ms/step - loss: 0.2937 - val_loss: 0.5891\n",
            "Epoch 9/25\n",
            "11/11 [==============================] - 0s 4ms/step - loss: 0.2938 - val_loss: 0.5675\n",
            "Epoch 10/25\n",
            "11/11 [==============================] - 0s 4ms/step - loss: 0.2819 - val_loss: 0.5488\n",
            "Epoch 11/25\n",
            "11/11 [==============================] - 0s 4ms/step - loss: 0.3433 - val_loss: 0.5345\n",
            "Epoch 12/25\n",
            "11/11 [==============================] - 0s 4ms/step - loss: 0.2491 - val_loss: 0.5255\n",
            "Epoch 13/25\n",
            "11/11 [==============================] - 0s 4ms/step - loss: 0.2020 - val_loss: 0.5156\n",
            "Epoch 14/25\n",
            "11/11 [==============================] - 0s 4ms/step - loss: 0.1651 - val_loss: 0.5063\n",
            "Epoch 15/25\n",
            "11/11 [==============================] - 0s 4ms/step - loss: 0.1796 - val_loss: 0.4959\n",
            "Epoch 16/25\n",
            "11/11 [==============================] - 0s 4ms/step - loss: 0.1552 - val_loss: 0.4815\n",
            "Epoch 17/25\n",
            "11/11 [==============================] - 0s 4ms/step - loss: 0.1316 - val_loss: 0.4764\n",
            "Epoch 18/25\n",
            "11/11 [==============================] - 0s 4ms/step - loss: 0.1251 - val_loss: 0.4662\n",
            "Epoch 19/25\n",
            "11/11 [==============================] - 0s 4ms/step - loss: 0.1788 - val_loss: 0.4570\n",
            "Epoch 20/25\n",
            "11/11 [==============================] - 0s 4ms/step - loss: 0.1067 - val_loss: 0.4486\n",
            "Epoch 21/25\n",
            "11/11 [==============================] - 0s 4ms/step - loss: 0.1423 - val_loss: 0.4384\n",
            "Epoch 22/25\n",
            "11/11 [==============================] - 0s 4ms/step - loss: 0.1178 - val_loss: 0.4340\n",
            "Epoch 23/25\n",
            "11/11 [==============================] - 0s 5ms/step - loss: 0.1169 - val_loss: 0.4297\n",
            "Epoch 24/25\n",
            "11/11 [==============================] - 0s 5ms/step - loss: 0.1031 - val_loss: 0.4247\n",
            "Epoch 25/25\n",
            "11/11 [==============================] - 0s 5ms/step - loss: 0.0939 - val_loss: 0.4212\n"
          ],
          "name": "stdout"
        }
      ]
    },
    {
      "cell_type": "code",
      "metadata": {
        "colab": {
          "base_uri": "https://localhost:8080/",
          "height": 295
        },
        "id": "QTWdxbwFAPU3",
        "outputId": "01834d53-4a15-4595-b811-98a931637226"
      },
      "source": [
        "import matplotlib.pyplot as plt\n",
        "history_dict = history.history\n",
        "loss_values = history_dict[\"loss\"]\n",
        "val_loss_values = history_dict[\"val_loss\"]\n",
        "epochs = range(25)\n",
        "myfig = plt.gcf()\n",
        "plt.plot(epochs, loss_values, \"b\", label = \"training loss\")\n",
        "plt.plot(epochs, val_loss_values, \"red\", label = \"validation loss\")\n",
        "plt.title(\"Training & validation loss\")\n",
        "plt.xlabel(\"epoch\")\n",
        "plt.ylabel(\"loss\")\n",
        "plt.legend()\n",
        "\n",
        "myfig.savefig(\"loss.png\",dpi=300) \n",
        "plt.show()\n"
      ],
      "execution_count": null,
      "outputs": [
        {
          "output_type": "display_data",
          "data": {
            "image/png": "[encoded data removed]",
            "text/plain": [
              "<Figure size 432x288 with 1 Axes>"
            ]
          },
          "metadata": {
            "tags": [],
            "needs_background": "light"
          }
        }
      ]
    },
    {
      "cell_type": "markdown",
      "metadata": {
        "id": "3vrfH6xapeEb"
      },
      "source": [
        "应用encoder编码器提取特征"
      ]
    },
    {
      "cell_type": "code",
      "metadata": {
        "colab": {
          "base_uri": "https://localhost:8080/"
        },
        "id": "deuFiqRUUiUu",
        "outputId": "eb545fc6-42f7-4625-87db-633919c9e76e"
      },
      "source": [
        "# from keras.utils import plot_model\n",
        "# plot_model(model, show_shapes=True, to_file='reconstruct_lstm_autoencoder.png')\n",
        "mail_encoded = encoder.predict(X1)\n",
        "mail_encoded.shape"
      ],
      "execution_count": null,
      "outputs": [
        {
          "output_type": "execute_result",
          "data": {
            "text/plain": [
              "(102, 10)"
            ]
          },
          "metadata": {
            "tags": []
          },
          "execution_count": 15
        }
      ]
    },
    {
      "cell_type": "markdown",
      "metadata": {
        "id": "LIHwhbecsbpB"
      },
      "source": [
        "# UMAP"
      ]
    },
    {
      "cell_type": "code",
      "metadata": {
        "colab": {
          "base_uri": "https://localhost:8080/"
        },
        "id": "4Uao49mgE_5P",
        "outputId": "8b4077b3-16f9-42b1-b373-c00b90bdf9df"
      },
      "source": [
        "pip install umap-learn"
      ],
      "execution_count": null,
      "outputs": [
        {
          "output_type": "stream",
          "text": [
            "Collecting umap-learn\n",
            "\u001b[?25l  Downloading https://files.pythonhosted.org/packages/75/69/85e7f950bb75792ad5d666d86c5f3e62eedbb942848e7e3126513af9999c/umap-learn-0.5.1.tar.gz (80kB)\n",
            "\r\u001b[K     |████                            | 10kB 12.4MB/s eta 0:00:01\r\u001b[K     |████████                        | 20kB 17.0MB/s eta 0:00:01\r\u001b[K     |████████████▏                   | 30kB 21.0MB/s eta 0:00:01\r\u001b[K     |████████████████▏               | 40kB 23.7MB/s eta 0:00:01\r\u001b[K     |████████████████████▎           | 51kB 26.0MB/s eta 0:00:01\r\u001b[K     |████████████████████████▎       | 61kB 28.1MB/s eta 0:00:01\r\u001b[K     |████████████████████████████▍   | 71kB 29.0MB/s eta 0:00:01\r\u001b[K     |████████████████████████████████| 81kB 8.4MB/s \n",
            "\u001b[?25hRequirement already satisfied: numpy>=1.17 in /usr/local/lib/python3.7/dist-packages (from umap-learn) (1.19.5)\n",
            "Requirement already satisfied: scikit-learn>=0.22 in /usr/local/lib/python3.7/dist-packages (from umap-learn) (0.22.2.post1)\n",
            "Requirement already satisfied: scipy>=1.0 in /usr/local/lib/python3.7/dist-packages (from umap-learn) (1.4.1)\n",
            "Requirement already satisfied: numba>=0.49 in /usr/local/lib/python3.7/dist-packages (from umap-learn) (0.51.2)\n",
            "Collecting pynndescent>=0.5\n",
            "\u001b[?25l  Downloading https://files.pythonhosted.org/packages/af/65/8189298dd3a05bbad716ee8e249764ff8800e365d8dc652ad2192ca01b4a/pynndescent-0.5.2.tar.gz (1.1MB)\n",
            "\u001b[K     |████████████████████████████████| 1.2MB 36.4MB/s \n",
            "\u001b[?25hRequirement already satisfied: joblib>=0.11 in /usr/local/lib/python3.7/dist-packages (from scikit-learn>=0.22->umap-learn) (1.0.1)\n",
            "Requirement already satisfied: llvmlite<0.35,>=0.34.0.dev0 in /usr/local/lib/python3.7/dist-packages (from numba>=0.49->umap-learn) (0.34.0)\n",
            "Requirement already satisfied: setuptools in /usr/local/lib/python3.7/dist-packages (from numba>=0.49->umap-learn) (57.0.0)\n",
            "Building wheels for collected packages: umap-learn, pynndescent\n",
            "  Building wheel for umap-learn (setup.py) ... \u001b[?25l\u001b[?25hdone\n",
            "  Created wheel for umap-learn: filename=umap_learn-0.5.1-cp37-none-any.whl size=76569 sha256=e510a89b126fef2fce9022c50a35bbf859430507c739b617199cbb0c885bc249\n",
            "  Stored in directory: /root/.cache/pip/wheels/ad/df/d5/a3691296ff779f25cd1cf415a3af954b987fb53111e3392cf4\n",
            "  Building wheel for pynndescent (setup.py) ... \u001b[?25l\u001b[?25hdone\n",
            "  Created wheel for pynndescent: filename=pynndescent-0.5.2-cp37-none-any.whl size=51362 sha256=2aa06b01dd50719174589658b62f6a74e25c394330ebf44a77f999b92d053adf\n",
            "  Stored in directory: /root/.cache/pip/wheels/ba/52/4e/4c28d04d144a28f89e2575fb63628df6e6d49b56c5ddd0c74e\n",
            "Successfully built umap-learn pynndescent\n",
            "Installing collected packages: pynndescent, umap-learn\n",
            "Successfully installed pynndescent-0.5.2 umap-learn-0.5.1\n"
          ],
          "name": "stdout"
        }
      ]
    },
    {
      "cell_type": "code",
      "metadata": {
        "colab": {
          "base_uri": "https://localhost:8080/"
        },
        "id": "kAVRJRH7seX_",
        "outputId": "96bd5aab-c7de-4d5c-eef3-f12ab63d7ad3"
      },
      "source": [
        "# install umap library use\n",
        "import umap.umap_ as umap\n",
        "review_umapped = umap.UMAP(n_components = n_bottleneck / 2, \n",
        "                           metric = \"euclidean\",\n",
        "                           n_neighbors = 50, \n",
        "                           min_dist = 0.0,\n",
        "                           random_state = 13).fit_transform(mail_encoded)\n",
        "review_umapped.shape\n",
        "# (25000, 5)"
      ],
      "execution_count": null,
      "outputs": [
        {
          "output_type": "execute_result",
          "data": {
            "text/plain": [
              "(102, 5)"
            ]
          },
          "metadata": {
            "tags": []
          },
          "execution_count": 17
        }
      ]
    },
    {
      "cell_type": "markdown",
      "metadata": {
        "id": "89h_Hr7kMPLM"
      },
      "source": [
        "# DBSCAN"
      ]
    },
    {
      "cell_type": "code",
      "metadata": {
        "colab": {
          "base_uri": "https://localhost:8080/"
        },
        "id": "xdNFhgVeK-Sd",
        "outputId": "bc7e9da2-fc42-4c69-9e14-f55f4ebaaab9"
      },
      "source": [
        "from sklearn.cluster import DBSCAN\n",
        "import numpy as np\n",
        "# np.random.seed(13)\n",
        "# clusters3 = DBSCAN(\n",
        "#     min_samples = 15,\n",
        "#     eps = 1\n",
        "# ).fit_predict(review_umapped)\n",
        "\n",
        "clusters = DBSCAN(\n",
        "    min_samples = 15,\n",
        "    eps = 1\n",
        ")\n",
        "clusters2 = clusters.fit(review_umapped)\n",
        "clusters3 = clusters.fit_predict(review_umapped)\n",
        "len(set(clusters3))"
      ],
      "execution_count": null,
      "outputs": [
        {
          "output_type": "execute_result",
          "data": {
            "text/plain": [
              "4"
            ]
          },
          "metadata": {
            "tags": []
          },
          "execution_count": 38
        }
      ]
    },
    {
      "cell_type": "markdown",
      "metadata": {
        "id": "vUPP9HN83T_5"
      },
      "source": [
        "# 输出与画图1 二维\n"
      ]
    },
    {
      "cell_type": "code",
      "metadata": {
        "colab": {
          "base_uri": "https://localhost:8080/",
          "height": 429
        },
        "id": "U9A-Wgo2MOYN",
        "outputId": "0de47cdb-7193-4c16-d7c8-585dee73789c"
      },
      "source": [
        "from sklearn.manifold import TSNE\n",
        "import seaborn as sns\n",
        "\n",
        "labels = clusters.labels_\n",
        "print('每个样本的簇标号:')\n",
        "print(labels)\n",
        "\n",
        "filepath = '/content/drive/MyDrive/mail-data/'\n",
        "fig_name = 'testcluter.png'\n",
        "# fig_path = filepath + '/' + fig_name\n",
        "fig_path = filepath + fig_name\n",
        "\n",
        "tsne2 = TSNE(2, metric = \"euclidean\", random_state = 13).fit_transform(mail_encoded)\n",
        "fig = sns.scatterplot(tsne2[:, 0], tsne2[:, 1], \n",
        "                hue = clusters3, palette = \"deep\",\n",
        "                alpha = 0.9, s = 10,\n",
        "                legend = \"full\")\n",
        "scatter_fig = fig.get_figure()\n",
        "scatter_fig.savefig(fig_path, dpi = 400)"
      ],
      "execution_count": null,
      "outputs": [
        {
          "output_type": "stream",
          "text": [
            "每个样本的簇标号:\n",
            "[ 0 -1 -1 -1 -1 -1 -1 -1  0  0  0  0  0  0  0  0  0  0  0  0  0  0  0  1\n",
            "  1  1  1  1  1  1  1  1  1  1  1  1  1  1  1  1  1  1  1  1  1  1  1  1\n",
            "  1  1  2  2  2  2  2  2  2  2  2  2  2  2  2  2  2  2  2  2  2  2  2  2\n",
            "  2  2  2  2  2  2  2  2  2  2  2  2  2  2  2 -1  0  0  0 -1 -1 -1 -1  0\n",
            "  0  0  0 -1  2  2]\n"
          ],
          "name": "stdout"
        },
        {
          "output_type": "stream",
          "text": [
            "/usr/local/lib/python3.7/dist-packages/seaborn/_decorators.py:43: FutureWarning: Pass the following variables as keyword args: x, y. From version 0.12, the only valid positional argument will be `data`, and passing other arguments without an explicit keyword will result in an error or misinterpretation.\n",
            "  FutureWarning\n"
          ],
          "name": "stderr"
        },
        {
          "output_type": "display_data",
          "data": {
            "image/png": "[encoded data removed]",
            "text/plain": [
              "<Figure size 432x288 with 1 Axes>"
            ]
          },
          "metadata": {
            "tags": [],
            "needs_background": "light"
          }
        }
      ]
    },
    {
      "cell_type": "markdown",
      "metadata": {
        "id": "nhGPbG5V0ju5"
      },
      "source": [
        "# 输出与画图2（备份方案）图不好看"
      ]
    },
    {
      "cell_type": "code",
      "metadata": {
        "id": "apE8Ln_j0nQp"
      },
      "source": [
        "core_samples_mask = np.zeros_like(clusters.labels_, dtype=bool)\n",
        "core_samples_mask[clusters.core_sample_indices_] = True\n",
        "labels = clusters.labels_\n",
        "print('每个样本的簇标号:')\n",
        "print(labels)\n",
        "\n",
        "n_clusters_ = len(set(labels)) - (1 if -1 in labels else 0)\n",
        "n_noise_ = list(labels).count(-1)\n",
        "\n",
        "\n",
        "# 绘出结果\n",
        "unique_labels = set(labels)\n",
        "myfig = plt.gcf()\n",
        "colors = [plt.cm.Spectral(each)\n",
        "           for each in np.linspace(0, 1, len(unique_labels))]\n",
        "for k, col in zip(unique_labels, colors):\n",
        "     if k == -1:\n",
        "         col = [0, 0, 0, 1]\n",
        "     class_member_mask = (labels == k)\n",
        "     print(\"class_member_mask is :\",class_member_mask)\n",
        "     xy = X[class_member_mask & core_samples_mask]\n",
        "     plt.plot(xy[:, 0], xy[:, 1], 'o', markerfacecolor=tuple(col),\n",
        "              markeredgecolor='k', markersize=14)\n",
        "     xy = X[class_member_mask & ~core_samples_mask]\n",
        "     plt.plot(xy[:, 0], xy[:, 1], 'o', markerfacecolor=tuple(col),\n",
        "              markeredgecolor='k', markersize=6)\n",
        "plt.title('Estimated number of clusters: %d' % n_clusters_)\n",
        "myfig.savefig(\"cluster.png\",dpi=300)\n",
        "plt.show()"
      ],
      "execution_count": null,
      "outputs": []
    }
  ]
}